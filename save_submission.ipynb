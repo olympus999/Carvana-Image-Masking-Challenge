{
 "cells": [
  {
   "cell_type": "code",
   "execution_count": 1,
   "metadata": {},
   "outputs": [
    {
     "name": "stderr",
     "output_type": "stream",
     "text": [
      "Using TensorFlow backend.\n"
     ]
    }
   ],
   "source": [
    "import numpy as np\n",
    "import pandas as pd\n",
    "import matplotlib.pyplot as plt\n",
    "import os.path\n",
    "import os\n",
    "from os.path import join\n",
    "from threading import Thread\n",
    "import time\n",
    "import gc\n",
    "\n",
    "import tensorflow as tf\n",
    "from keras.backend.tensorflow_backend import set_session\n",
    "from keras.callbacks import ModelCheckpoint, CSVLogger, ReduceLROnPlateau\n",
    "from keras.layers import Conv2D, Input, Activation\n",
    "from keras.layers.pooling import MaxPooling2D\n",
    "from keras.layers.core import Dropout\n",
    "from keras.layers.merge import Add\n",
    "from keras.layers.normalization import BatchNormalization\n",
    "from keras.layers.convolutional import UpSampling2D, Conv2DTranspose, ZeroPadding2D, Cropping2D\n",
    "from keras.losses import binary_crossentropy\n",
    "from keras.models import load_model\n",
    "from keras.models import Sequential, Model\n",
    "from keras.optimizers import Adam, SGD\n",
    "from keras.preprocessing.image import ImageDataGenerator\n",
    "from keras.preprocessing import image\n",
    "import keras.backend as K\n",
    "\n",
    "from scipy import misc"
   ]
  },
  {
   "cell_type": "code",
   "execution_count": 2,
   "metadata": {
    "collapsed": true
   },
   "outputs": [],
   "source": [
    "### Settings ###\n",
    "input_folder = '../input'\n",
    "# Location of train images\n",
    "x_input = join(input_folder, 'test')\n",
    "# Save predictions\n",
    "save_predictions = 'predictions'\n",
    "# Image dimensions\n",
    "img_w = 1918 #1918\n",
    "img_h = 1280 #1280\n",
    "# Define view of car used for training\n",
    "angles = ['01', '02', '03', '04', '05', '06', '07', '08', '09', '10', '11', '12', '13', '14', '15', '16']\n",
    "models = ['model_v4.4-test-new-gpu_01_weights.0.9968.hdf5', \n",
    "        'model_v4.4-test-new-gpu_02_weights.0.9970.hdf5',\n",
    "        'model_v4.4-test-new-gpu_03_weights.0.9974.hdf5',\n",
    "        'model_v4.4-test-new-gpu_04_weights.0.9970.hdf5',\n",
    "        'model_v4.4-test-new-gpu_05_weights.0.9970.hdf5',\n",
    "        'model_v4.4-test-new-gpu_06_weights.0.9973.hdf5',\n",
    "        'model_v4.4-test-new-gpu_07_weights.0.9977.hdf5',\n",
    "        'model_v4.4-test-new-gpu_08_weights.0.9978.hdf5',\n",
    "        'model_v4.4-test-new-gpu_09_weights.0.9975.hdf5',\n",
    "        'model_v4.4-test-new-gpu_10_weights.0.9976.hdf5',\n",
    "        'model_v4.4-test-new-gpu_11_weights.0.9981.hdf5',\n",
    "        'model_v4.4-test-new-gpu_12_weights.0.9976.hdf5',\n",
    "        'model_v4.4-test-new-gpu_13_weights.0.9975.hdf5',\n",
    "        'model_v4.4-test-new-gpu_14_weights.0.9976.hdf5',\n",
    "        'model_v4.4-test-new-gpu_15_weights.0.9982.hdf5',\n",
    "        'model_v4.4-test-new-gpu_16_weights.0.9978.hdf5'\n",
    "         ]\n",
    "# Variable for dice_coef\n",
    "smooth = 1\n",
    "# Data generator parameters\n",
    "data_gen_args_train = dict(zca_epsilon=0,\n",
    "                          featurewise_center=True,\n",
    "                          featurewise_std_normalization=True)\n",
    "datagen_test = ImageDataGenerator(**data_gen_args_train)\n",
    "\n",
    "datagen_test.std = np.array([[[ 58.49208069,  58.91231155,  58.01151657]]], dtype=np.float32)\n",
    "datagen_test.mean = np.array([[[ 111.84810638,  111.84810638,  111.84810638]]], dtype=np.float32)\n",
    "datagen_test.augment = True"
   ]
  },
  {
   "cell_type": "code",
   "execution_count": 3,
   "metadata": {
    "collapsed": true
   },
   "outputs": [],
   "source": [
    "# From here: https://github.com/jocicmarko/ultrasound-nerve-segmentation/blob/master/train.py\n",
    "def dice_coef(y_true, y_pred):\n",
    "    y_true_f = K.flatten(y_true)\n",
    "    y_pred_f = K.flatten(y_pred)\n",
    "    intersection = K.sum(y_true_f * y_pred_f)\n",
    "    return (2. * intersection + smooth) / (K.sum(y_true_f) + K.sum(y_pred_f) + smooth)\n",
    "\n",
    "\n",
    "def bce_dice_loss(y_true, y_pred):\n",
    "    return 0.5 * binary_crossentropy(y_true, y_pred) - dice_coef(y_true, y_pred)\n",
    "\n",
    "def ret_angle_list(x_list, angle):\n",
    "    angle = '_' + angle\n",
    "    k = [x.find(angle) for x in x_list['img']]\n",
    "    k = np.array(k)\n",
    "    \n",
    "    k[k>0] = 1\n",
    "    k[k<0] = 0\n",
    "    \n",
    "    k = [i if x==1 else None for i,x in enumerate(k)]\n",
    "    k = [value for value in k if value != None]\n",
    "    k = pd.DataFrame([x_list['img'][i] for i in k], columns=['img'])\n",
    "    return k\n",
    "\n",
    "def remove_obj_rti(obj):\n",
    "    gc.collect()\n",
    "    del obj.obj\n",
    "    del obj.queue\n",
    "    del obj\n",
    "    gc.collect()"
   ]
  },
  {
   "cell_type": "code",
   "execution_count": 4,
   "metadata": {
    "collapsed": true
   },
   "outputs": [],
   "source": [
    "# Add full location of test data for all images\n",
    "test_data_files = os.listdir(x_input)\n",
    "for i, file in enumerate(test_data_files):\n",
    "    test_data_files[i] = join(x_input, file)\n",
    "# Make it into Data Frame so you can feed it into function ret_angle_list\n",
    "pd_test_data = pd.DataFrame(test_data_files, columns=['img'])"
   ]
  },
  {
   "cell_type": "code",
   "execution_count": 5,
   "metadata": {
    "collapsed": true
   },
   "outputs": [],
   "source": [
    "# Fill array with images\n",
    "class getTestData:\n",
    "    \n",
    "    def __init__(self, datagen):\n",
    "        self.datagen = datagen\n",
    "    \n",
    "    def run(self, arr_x, arr_names, img_files, per_array=30):\n",
    "        \n",
    "        self.arr_x = arr_x\n",
    "        self.arr_names = arr_names\n",
    "        self.img_files = img_files\n",
    "        self.per_array = per_array\n",
    "        \n",
    "        self.thread = Thread(target = self.fill_array)\n",
    "        self.thread.start()\n",
    "    \n",
    "    def fill_array(self):\n",
    "\n",
    "        while(True):\n",
    "            if(len(self.arr_x) <3):\n",
    "                threads = []\n",
    "                img_to_arr = self.img_files[0:self.per_array]\n",
    "                del self.img_files[0:self.per_array]\n",
    "                \n",
    "                x = [None] * self.per_array\n",
    "\n",
    "                for i, file in enumerate(img_to_arr):\n",
    "                    thread = Thread(target=self.read_img, args=(file, x, i))\n",
    "                    thread.start()\n",
    "                    threads.append(thread)\n",
    "\n",
    "                for t in threads:\n",
    "                    t.join()\n",
    "                \n",
    "                for x_augmented in self.datagen.flow(np.array(x), batch_size=self.per_array, shuffle=False):\n",
    "                    x = x_augmented\n",
    "                    break\n",
    "                \n",
    "                self.arr_x.append(x)\n",
    "                names = [f.split('/')[-1] for f in img_to_arr]\n",
    "                self.arr_names.append(names)\n",
    "\n",
    "                # At the end\n",
    "                if(self.per_array > len(self.img_files)):\n",
    "                    self.per_array = len(self.img_files)\n",
    "                if(len(self.img_files) == 0):\n",
    "                    break\n",
    "\n",
    "                gc.collect()\n",
    "\n",
    "            else:\n",
    "                time.sleep(1)\n",
    "\n",
    "    def read_img(seslf, file, x, loc):\n",
    "        x[loc] = misc.imread(file)"
   ]
  },
  {
   "cell_type": "code",
   "execution_count": 6,
   "metadata": {
    "collapsed": true
   },
   "outputs": [],
   "source": [
    "def save_pred_to_file(y, path, name):\n",
    "    misc.imsave(join(path, name), y)"
   ]
  },
  {
   "cell_type": "code",
   "execution_count": 7,
   "metadata": {
    "scrolled": true
   },
   "outputs": [
    {
     "name": "stdout",
     "output_type": "stream",
     "text": [
      "sleeping 5\n",
      "sleeping 1\n",
      "sleeping 5\n",
      "sleeping 1\n",
      "sleeping 5\n",
      "sleeping 1\n",
      "sleeping 5\n",
      "sleeping 1\n",
      "sleeping 5\n",
      "sleeping 1\n",
      "sleeping 5\n",
      "sleeping 1\n",
      "sleeping 5\n",
      "sleeping 1\n",
      "sleeping 5\n",
      "sleeping 1\n",
      "sleeping 5\n",
      "sleeping 1\n",
      "sleeping 5\n",
      "sleeping 1\n",
      "sleeping 5\n",
      "sleeping 1\n",
      "sleeping 5\n",
      "sleeping 1\n",
      "sleeping 5\n",
      "sleeping 1\n",
      "sleeping 5\n",
      "sleeping 1\n",
      "sleeping 5\n",
      "sleeping 1\n",
      "sleeping 5\n",
      "sleeping 1\n"
     ]
    }
   ],
   "source": [
    "while len(models) > 0:\n",
    "    m = models.pop(0)\n",
    "    a = angles.pop(0)\n",
    "    array_x = []\n",
    "    array_names = []\n",
    "    angleXX = ret_angle_list(pd_test_data, a)['img'].tolist()\n",
    "    obj = getTestData(datagen_test)\n",
    "    obj.run(array_x, array_names, angleXX)\n",
    "    model = load_model(m, \n",
    "                   custom_objects={'bce_dice_loss': bce_dice_loss, \n",
    "                                   'dice_coef': dice_coef})\n",
    "    flag = False\n",
    "    \n",
    "    while True:\n",
    "        # Break when array_x and angleXX is empty. Just to be sure sleep 5 seconds before\n",
    "        if (len(array_x) == 0 and len(angleXX) == 0):\n",
    "            if(flag):\n",
    "                break\n",
    "            flag = True\n",
    "            time.sleep(5)\n",
    "            print ('sleeping 5')\n",
    "            \n",
    "        if(len(array_x) != 0):\n",
    "            # Get data and make predictions\n",
    "            start_time = time.time()\n",
    "            x = np.array(array_x.pop(0))\n",
    "            f = array_names.pop(0)\n",
    "            y = model.predict(x, 1)\n",
    "            # Write images to disk using threading\n",
    "            threads = []\n",
    "            for i, y_ in enumerate(y):\n",
    "                    thread = Thread(target=save_pred_to_file, args=(np.squeeze(y_,2), save_predictions, f[i]))\n",
    "                    threads.append(thread)\n",
    "                    \n",
    "            for thread in threads:\n",
    "                thread.start()\n",
    "                \n",
    "        else:\n",
    "            time.sleep(1)\n",
    "            print ('sleeping 1')\n",
    "    \n",
    "    # Delete unneeded objects\n",
    "    del obj.arr_x\n",
    "    del obj.arr_names\n",
    "    del obj.img_files\n",
    "    del obj.thread\n",
    "    del obj\n",
    "    del array_x\n",
    "    gc.collect()"
   ]
  },
  {
   "cell_type": "code",
   "execution_count": 8,
   "metadata": {
    "collapsed": true
   },
   "outputs": [],
   "source": [
    "m = models.pop(0)\n",
    "a = angles.pop(0)\n",
    "x = array_x.pop(0)"
   ]
  },
  {
   "cell_type": "code",
   "execution_count": 10,
   "metadata": {},
   "outputs": [
    {
     "data": {
      "text/plain": [
       "(2, 1280, 1918, 3)"
      ]
     },
     "execution_count": 10,
     "metadata": {},
     "output_type": "execute_result"
    }
   ],
   "source": [
    "np.shape(array_x[2])"
   ]
  },
  {
   "cell_type": "code",
   "execution_count": 8,
   "metadata": {},
   "outputs": [
    {
     "data": {
      "image/png": "[encoded data removed]",
      "text/plain": [
       "<matplotlib.figure.Figure at 0x12e43655470>"
      ]
     },
     "metadata": {},
     "output_type": "display_data"
    },
    {
     "name": "stdout",
     "output_type": "stream",
     "text": [
      "0ab2e2edfa32_01.jpg\n"
     ]
    }
   ],
   "source": [
    "plt.imshow(array_x[0][25])\n",
    "plt.show()\n",
    "print(array_names[0][25])"
   ]
  },
  {
   "cell_type": "code",
   "execution_count": 14,
   "metadata": {
    "collapsed": true
   },
   "outputs": [],
   "source": [
    "x = np.array(array_x.pop(0))"
   ]
  },
  {
   "cell_type": "code",
   "execution_count": 8,
   "metadata": {},
   "outputs": [
    {
     "data": {
      "text/plain": [
       "array([[254, 250, 247],\n",
       "       [254, 250, 247],\n",
       "       [254, 250, 247],\n",
       "       ..., \n",
       "       [255, 251, 248],\n",
       "       [255, 251, 248],\n",
       "       [255, 251, 248]], dtype=uint8)"
      ]
     },
     "execution_count": 8,
     "metadata": {},
     "output_type": "execute_result"
    }
   ],
   "source": [
    "x[0]"
   ]
  },
  {
   "cell_type": "code",
   "execution_count": 10,
   "metadata": {},
   "outputs": [
    {
     "data": {
      "text/plain": [
       "'predictions'"
      ]
     },
     "execution_count": 10,
     "metadata": {},
     "output_type": "execute_result"
    }
   ],
   "source": [
    "save_predictions"
   ]
  },
  {
   "cell_type": "code",
   "execution_count": 11,
   "metadata": {},
   "outputs": [
    {
     "data": {
      "text/plain": [
       "'000aa097d423_01.jpg'"
      ]
     },
     "execution_count": 11,
     "metadata": {},
     "output_type": "execute_result"
    }
   ],
   "source": [
    "y_, save_predictions, f[i]"
   ]
  },
  {
   "cell_type": "code",
   "execution_count": 9,
   "metadata": {},
   "outputs": [
    {
     "ename": "ValueError",
     "evalue": "'arr' does not have a suitable array shape for any mode.",
     "output_type": "error",
     "traceback": [
      "\u001b[1;31m---------------------------------------------------------------------------\u001b[0m",
      "\u001b[1;31mValueError\u001b[0m                                Traceback (most recent call last)",
      "\u001b[1;32m<ipython-input-9-c96dba84391d>\u001b[0m in \u001b[0;36m<module>\u001b[1;34m()\u001b[0m\n\u001b[1;32m----> 1\u001b[1;33m \u001b[0mmisc\u001b[0m\u001b[1;33m.\u001b[0m\u001b[0mimsave\u001b[0m\u001b[1;33m(\u001b[0m\u001b[0mjoin\u001b[0m\u001b[1;33m(\u001b[0m\u001b[0msave_predictions\u001b[0m\u001b[1;33m,\u001b[0m \u001b[0mf\u001b[0m\u001b[1;33m[\u001b[0m\u001b[1;36m0\u001b[0m\u001b[1;33m]\u001b[0m\u001b[1;33m)\u001b[0m\u001b[1;33m,\u001b[0m \u001b[0my_\u001b[0m\u001b[1;33m)\u001b[0m\u001b[1;33m\u001b[0m\u001b[0m\n\u001b[0m",
      "\u001b[1;32mc:\\users\\intel\\anaconda3\\envs\\gym\\lib\\site-packages\\scipy\\misc\\pilutil.py\u001b[0m in \u001b[0;36mimsave\u001b[1;34m(name, arr, format)\u001b[0m\n\u001b[0;32m    195\u001b[0m \u001b[1;33m\u001b[0m\u001b[0m\n\u001b[0;32m    196\u001b[0m     \"\"\"\n\u001b[1;32m--> 197\u001b[1;33m     \u001b[0mim\u001b[0m \u001b[1;33m=\u001b[0m \u001b[0mtoimage\u001b[0m\u001b[1;33m(\u001b[0m\u001b[0marr\u001b[0m\u001b[1;33m,\u001b[0m \u001b[0mchannel_axis\u001b[0m\u001b[1;33m=\u001b[0m\u001b[1;36m2\u001b[0m\u001b[1;33m)\u001b[0m\u001b[1;33m\u001b[0m\u001b[0m\n\u001b[0m\u001b[0;32m    198\u001b[0m     \u001b[1;32mif\u001b[0m \u001b[0mformat\u001b[0m \u001b[1;32mis\u001b[0m \u001b[1;32mNone\u001b[0m\u001b[1;33m:\u001b[0m\u001b[1;33m\u001b[0m\u001b[0m\n\u001b[0;32m    199\u001b[0m         \u001b[0mim\u001b[0m\u001b[1;33m.\u001b[0m\u001b[0msave\u001b[0m\u001b[1;33m(\u001b[0m\u001b[0mname\u001b[0m\u001b[1;33m)\u001b[0m\u001b[1;33m\u001b[0m\u001b[0m\n",
      "\u001b[1;32mc:\\users\\intel\\anaconda3\\envs\\gym\\lib\\site-packages\\scipy\\misc\\pilutil.py\u001b[0m in \u001b[0;36mtoimage\u001b[1;34m(arr, high, low, cmin, cmax, pal, mode, channel_axis)\u001b[0m\n\u001b[0;32m    287\u001b[0m                                 ((3 in shape) or (4 in shape)))\n\u001b[0;32m    288\u001b[0m     \u001b[1;32mif\u001b[0m \u001b[1;32mnot\u001b[0m \u001b[0mvalid\u001b[0m\u001b[1;33m:\u001b[0m\u001b[1;33m\u001b[0m\u001b[0m\n\u001b[1;32m--> 289\u001b[1;33m         raise ValueError(\"'arr' does not have a suitable array shape for \"\n\u001b[0m\u001b[0;32m    290\u001b[0m                          \"any mode.\")\n\u001b[0;32m    291\u001b[0m     \u001b[1;32mif\u001b[0m \u001b[0mlen\u001b[0m\u001b[1;33m(\u001b[0m\u001b[0mshape\u001b[0m\u001b[1;33m)\u001b[0m \u001b[1;33m==\u001b[0m \u001b[1;36m2\u001b[0m\u001b[1;33m:\u001b[0m\u001b[1;33m\u001b[0m\u001b[0m\n",
      "\u001b[1;31mValueError\u001b[0m: 'arr' does not have a suitable array shape for any mode."
     ]
    }
   ],
   "source": [
    "misc.imsave(join(save_predictions, f[0]), y_)"
   ]
  },
  {
   "cell_type": "code",
   "execution_count": 12,
   "metadata": {},
   "outputs": [
    {
     "data": {
      "text/plain": [
       "(1280, 1918)"
      ]
     },
     "execution_count": 12,
     "metadata": {},
     "output_type": "execute_result"
    }
   ],
   "source": [
    "np.squeeze(y_,2).shape"
   ]
  },
  {
   "cell_type": "code",
   "execution_count": 15,
   "metadata": {
    "collapsed": true
   },
   "outputs": [],
   "source": [
    "r = list(y_.shape)"
   ]
  },
  {
   "cell_type": "code",
   "execution_count": 16,
   "metadata": {},
   "outputs": [
    {
     "data": {
      "text/plain": [
       "3"
      ]
     },
     "execution_count": 16,
     "metadata": {},
     "output_type": "execute_result"
    }
   ],
   "source": [
    "len(r)"
   ]
  },
  {
   "cell_type": "code",
   "execution_count": 11,
   "metadata": {},
   "outputs": [],
   "source": [
    "names = [temp.split('/')[-1] for temp in f]"
   ]
  },
  {
   "cell_type": "code",
   "execution_count": 12,
   "metadata": {},
   "outputs": [
    {
     "data": {
      "text/plain": [
       "['4a80b97e2788_01.jpg',\n",
       " '2065ec7f39c8_01.jpg',\n",
       " '938f4dad559a_01.jpg',\n",
       " 'c11697d4e944_01.jpg',\n",
       " '94d66879087a_01.jpg',\n",
       " '1f7723a9a313_01.jpg',\n",
       " 'bd5326689e37_01.jpg',\n",
       " 'e4cbfc3cd0d4_01.jpg',\n",
       " '615554b68cf1_01.jpg',\n",
       " 'f3f1555ad1a1_01.jpg',\n",
       " 'acd4e299630f_01.jpg',\n",
       " '3e26cd067113_01.jpg',\n",
       " 'bb562a2fb4aa_01.jpg',\n",
       " '2fa14625c884_01.jpg',\n",
       " '58304f786779_01.jpg',\n",
       " 'ed92a5c699bd_01.jpg',\n",
       " '6edb8f61fa1c_01.jpg',\n",
       " '4da561123fbd_01.jpg',\n",
       " 'd4637923410e_01.jpg',\n",
       " 'ed3d8de23e5b_01.jpg',\n",
       " '8cbc0356794d_01.jpg',\n",
       " 'a0ec16c48cad_01.jpg',\n",
       " '6fd009261221_01.jpg',\n",
       " 'a48c816bf5b7_01.jpg',\n",
       " '9bf0fc45c5b4_01.jpg',\n",
       " 'ec2be74b2afd_01.jpg',\n",
       " '67b2f287ff27_01.jpg',\n",
       " 'ea20ee53fc02_01.jpg',\n",
       " '30b192e5db20_01.jpg',\n",
       " '82e7bf2a5b56_01.jpg']"
      ]
     },
     "execution_count": 12,
     "metadata": {},
     "output_type": "execute_result"
    }
   ],
   "source": [
    "names"
   ]
  },
  {
   "cell_type": "code",
   "execution_count": null,
   "metadata": {
    "collapsed": true
   },
   "outputs": [],
   "source": []
  }
 ],
 "metadata": {
  "kernelspec": {
   "display_name": "Python 3",
   "language": "python",
   "name": "python3"
  },
  "language_info": {
   "codemirror_mode": {
    "name": "ipython",
    "version": 3
   },
   "file_extension": ".py",
   "mimetype": "text/x-python",
   "name": "python",
   "nbconvert_exporter": "python",
   "pygments_lexer": "ipython3",
   "version": "3.6.2"
  }
 },
 "nbformat": 4,
 "nbformat_minor": 2
}
