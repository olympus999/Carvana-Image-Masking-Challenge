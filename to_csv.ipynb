{
 "cells": [
  {
   "cell_type": "code",
   "execution_count": 1,
   "metadata": {
    "collapsed": true
   },
   "outputs": [],
   "source": [
    "import numpy as np\n",
    "import pandas as pd\n",
    "import matplotlib.pyplot as plt\n",
    "import os.path\n",
    "import os\n",
    "from os.path import join\n",
    "from threading import Thread\n",
    "import time\n",
    "import gc\n",
    "\n",
    "from scipy import misc"
   ]
  },
  {
   "cell_type": "code",
   "execution_count": 2,
   "metadata": {
    "collapsed": true
   },
   "outputs": [],
   "source": [
    "### Settings ###\n",
    "source = 'processed_predictions'\n",
    "output = 'submit.csv'"
   ]
  },
  {
   "cell_type": "code",
   "execution_count": 3,
   "metadata": {
    "collapsed": true
   },
   "outputs": [],
   "source": [
    "all_img = os.listdir(source)\n",
    "all_img = [join(source ,f) for f in all_img]"
   ]
  },
  {
   "cell_type": "code",
   "execution_count": 4,
   "metadata": {
    "collapsed": true
   },
   "outputs": [],
   "source": [
    "class getTestData:\n",
    "    \n",
    "    def run(self, arr_x, arr_names, img_files, per_array=30):\n",
    "        \n",
    "        self.arr_x = arr_x\n",
    "        self.arr_names = arr_names\n",
    "        self.img_files = img_files\n",
    "        self.per_array = per_array\n",
    "        \n",
    "        self.thread = Thread(target = self.fill_array)\n",
    "        self.thread.start()\n",
    "    \n",
    "    def fill_array(self):\n",
    "\n",
    "        while(True):\n",
    "            if(len(self.arr_x) <3):\n",
    "                threads = []\n",
    "                img_to_arr = self.img_files[0:self.per_array]\n",
    "                del self.img_files[0:self.per_array]\n",
    "                \n",
    "                x = [None] * self.per_array\n",
    "\n",
    "                for i, file in enumerate(img_to_arr):\n",
    "                    thread = Thread(target=self.read_img, args=(file, x, i))\n",
    "                    thread.start()\n",
    "                    threads.append(thread)\n",
    "\n",
    "                for t in threads:\n",
    "                    t.join()\n",
    "                \n",
    "                self.arr_x.append(x)\n",
    "                names = [f.split('\\\\')[-1] for f in img_to_arr]\n",
    "                self.arr_names.append(names)\n",
    "\n",
    "                # At the end\n",
    "                if(self.per_array > len(self.img_files)):\n",
    "                    self.per_array = len(self.img_files)\n",
    "                if(len(self.img_files) == 0):\n",
    "                    break\n",
    "\n",
    "                gc.collect()\n",
    "\n",
    "            else:\n",
    "                time.sleep(1)\n",
    "\n",
    "    def read_img(self, file, x, loc):\n",
    "        x[loc] = misc.imread(file, mode='L')"
   ]
  },
  {
   "cell_type": "code",
   "execution_count": 5,
   "metadata": {
    "collapsed": true
   },
   "outputs": [],
   "source": [
    "def rle_encode(mask_image):\n",
    "    pixels = mask_image.flatten()\n",
    "    # We avoid issues with '1' at the start or end (at the corners of \n",
    "    # the original image) by setting those pixels to '0' explicitly.\n",
    "    # We do not expect these to be non-zero for an accurate mask, \n",
    "    # so this should not harm the score.\n",
    "    pixels[0] = 0\n",
    "    pixels[-1] = 0\n",
    "    runs = np.where(pixels[1:] != pixels[:-1])[0] + 2\n",
    "    runs[1::2] = runs[1::2] - runs[:-1:2]\n",
    "    return runs\n",
    "\n",
    "def rle_to_string(runs):\n",
    "    return ' '.join(str(x) for x in runs)"
   ]
  },
  {
   "cell_type": "code",
   "execution_count": 6,
   "metadata": {
    "collapsed": true
   },
   "outputs": [],
   "source": [
    "array_x = []\n",
    "array_names = []\n",
    "obj = getTestData()\n",
    "obj.run(array_x, array_names, all_img, 30)\n",
    "df = pd.DataFrame(columns=['img', 'rle_mask'])"
   ]
  },
  {
   "cell_type": "code",
   "execution_count": 7,
   "metadata": {
    "collapsed": true,
    "scrolled": true
   },
   "outputs": [],
   "source": [
    "while (len(all_img) != 0 or len(array_x) != 0):\n",
    "    if(len(array_x) != 0):\n",
    "        x = np.array(array_x.pop(0))\n",
    "        f_names = array_names.pop(0)\n",
    "        l = []\n",
    "        for i, x_ in enumerate(x):\n",
    "            x_[x_ <= 127] = 0\n",
    "            x_[x_ > 127] = 1\n",
    "            d = {'img': f_names[i], 'rle_mask': rle_to_string(rle_encode(x_))}\n",
    "            l.append(d)\n",
    "        df = df.append(l, ignore_index=True)\n",
    "    else:\n",
    "        time.sleep(1)\n",
    "        \n",
    "df.to_csv(output, index=False)"
   ]
  },
  {
   "cell_type": "code",
   "execution_count": null,
   "metadata": {
    "collapsed": true
   },
   "outputs": [],
   "source": []
  }
 ],
 "metadata": {
  "kernelspec": {
   "display_name": "Python 3",
   "language": "python",
   "name": "python3"
  },
  "language_info": {
   "codemirror_mode": {
    "name": "ipython",
    "version": 3
   },
   "file_extension": ".py",
   "mimetype": "text/x-python",
   "name": "python",
   "nbconvert_exporter": "python",
   "pygments_lexer": "ipython3",
   "version": "3.6.2"
  }
 },
 "nbformat": 4,
 "nbformat_minor": 2
}
